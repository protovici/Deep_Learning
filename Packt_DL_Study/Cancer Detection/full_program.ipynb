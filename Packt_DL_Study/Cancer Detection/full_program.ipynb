{
 "cells": [
  {
   "cell_type": "code",
   "execution_count": 1,
   "metadata": {},
   "outputs": [
    {
     "name": "stderr",
     "output_type": "stream",
     "text": [
      "c:\\DatSci\\Code\\Python\\3.10.9\\lib\\site-packages\\tqdm\\auto.py:22: TqdmWarning: IProgress not found. Please update jupyter and ipywidgets. See https://ipywidgets.readthedocs.io/en/stable/user_install.html\n",
      "  from .autonotebook import tqdm as notebook_tqdm\n",
      "c:\\DatSci\\Code\\Python\\3.10.9\\lib\\site-packages\\torchvision\\io\\image.py:13: UserWarning: Failed to load image Python extension: Could not find module 'C:\\DatSci\\Code\\Python\\3.10.9\\Lib\\site-packages\\torchvision\\image.pyd' (or one of its dependencies). Try using the full path with constructor syntax.\n",
      "  warn(f\"Failed to load image Python extension: {e}\")\n"
     ]
    },
    {
     "name": "stdout",
     "output_type": "stream",
     "text": [
      "----------------------------------------------------\n",
      "###               VERSION TYPES                  ###\n",
      "----------------------------------------------------\n",
      "Versions:  [('Pillow', '9.3.0'), ('tqdm', '4.64.1'), ('matplotlib', '3.6.2'), ('numpy', '1.23.5'), ('torch', '1.13.0'), ('pandas', '1.5.2'), ('torchvision', '0.14.0+cu117'), ('opendatasets', '0.1.22')]\n",
      "Device(s) to Utilize:  cpu\n",
      "Is Torch Availabke?:  False\n",
      "# of Devices Found:  1.13.0+cpu\n",
      "----------------------------------------------------\n",
      "If NVIDIA-SMI is not found, then CUDA isn't available on this device:\n",
      "Sat Dec 10 12:42:46 2022       \n",
      "+-----------------------------------------------------------------------------+\n",
      "| NVIDIA-SMI 527.56       Driver Version: 527.56       CUDA Version: 12.0     |\n",
      "|-------------------------------+----------------------+----------------------+\n",
      "| GPU  Name            TCC/WDDM | Bus-Id        Disp.A | Volatile Uncorr. ECC |\n",
      "| Fan  Temp  Perf  Pwr:Usage/Cap|         Memory-Usage | GPU-Util  Compute M. |\n",
      "|                               |                      |               MIG M. |\n",
      "|===============================+======================+======================|\n",
      "|   0  NVIDIA GeForce ... WDDM  | 00000000:01:00.0  On |                  N/A |\n",
      "|  0%   40C    P8    26W / 320W |   2187MiB / 10240MiB |     16%      Default |\n",
      "|                               |                      |                  N/A |\n",
      "+-------------------------------+----------------------+----------------------+\n",
      "                                                                               \n",
      "+-----------------------------------------------------------------------------+\n",
      "| Processes:                                                                  |\n",
      "|  GPU   GI   CI        PID   Type   Process name                  GPU Memory |\n",
      "|        ID   ID                                                   Usage      |\n",
      "|=============================================================================|\n",
      "|    0   N/A  N/A      3604    C+G   ...8bbwe\\WindowsTerminal.exe    N/A      |\n",
      "|    0   N/A  N/A      6996    C+G   ...462.44\\msedgewebview2.exe    N/A      |\n",
      "|    0   N/A  N/A      8564    C+G   ...y\\ShellExperienceHost.exe    N/A      |\n",
      "|    0   N/A  N/A      9440    C+G   C:\\Windows\\explorer.exe         N/A      |\n",
      "|    0   N/A  N/A     10704    C+G   ...n1h2txyewy\\SearchHost.exe    N/A      |\n",
      "|    0   N/A  N/A     10732    C+G   ...artMenuExperienceHost.exe    N/A      |\n",
      "|    0   N/A  N/A     11988    C+G   ...icrosoft VS Code\\Code.exe    N/A      |\n",
      "|    0   N/A  N/A     12664    C+G   ...me\\Application\\chrome.exe    N/A      |\n",
      "|    0   N/A  N/A     12848    C+G   ...e\\PhoneExperienceHost.exe    N/A      |\n",
      "|    0   N/A  N/A     13400    C+G   ...perience\\NVIDIA Share.exe    N/A      |\n",
      "|    0   N/A  N/A     14768    C+G   ...8wekyb3d8bbwe\\msteams.exe    N/A      |\n",
      "|    0   N/A  N/A     15676    C+G   ...462.44\\msedgewebview2.exe    N/A      |\n",
      "|    0   N/A  N/A     16572    C+G   ...in7x64\\steamwebhelper.exe    N/A      |\n",
      "|    0   N/A  N/A     19328    C+G   ...ekyb3d8bbwe\\HxOutlook.exe    N/A      |\n",
      "|    0   N/A  N/A     19380    C+G   ...kyb3d8bbwe\\HxAccounts.exe    N/A      |\n",
      "+-----------------------------------------------------------------------------+\n",
      "----------------------------------------------------\n",
      "Clear Torch Cuda Memory:  None\n",
      "-----ENVIRONMENT IS COMPLETE & STAGED CORRECTLY-----\n"
     ]
    }
   ],
   "source": [
    "# Code Library/Packages:\n",
    "import types\n",
    "import pkg_resources\n",
    "import gc\n",
    "import tqdm as tqdm\n",
    "import os\n",
    "import shutil\n",
    "import opendatasets as od\n",
    "import pandas as pd\n",
    "import numpy as np\n",
    "from PIL import Image\n",
    "from sklearn.metrics import confusion_matrix\n",
    "from sklearn.model_selection import train_test_split\n",
    "import matplotlib.pyplot as plt\n",
    "import torch\n",
    "from torch import nn, optim\n",
    "from torch.utils.data import DataLoader, Dataset, Subset\n",
    "from torch.utils.data.sampler import SubsetRandomSampler\n",
    "from torchvision.datasets import ImageFolder\n",
    "import torchvision.transforms as T\n",
    "from torch.nn import functional as F\n",
    "from torchvision.utils import make_grid\n",
    "from torchmetrics.functional import accuracy, auroc\n",
    "import pytorch_lightning as pl\n",
    "\n",
    "# Processing Device(s):\n",
    "processing_device= \"cuda\" if torch.cuda.is_available() else \"cpu\"\n",
    "torch_aval = torch.cuda.is_available()\n",
    "\n",
    "def get_imports():\n",
    "\n",
    "    for name, val in globals().items():\n",
    "        if isinstance(val, types.ModuleType):\n",
    "            name = val.__name__.split(\".\")[0]\n",
    "\n",
    "        elif isinstance(val, type):            \n",
    "            name = val.__module__.split(\".\")[0]\n",
    "\n",
    "        poorly_named_packages = {\n",
    "            \"PIL\": \"Pillow\",\n",
    "            \"sklearn\": \"scikit-learn\"\n",
    "        }\n",
    "\n",
    "        if name in poorly_named_packages.keys():\n",
    "            name = poorly_named_packages[name]\n",
    "\n",
    "        yield name\n",
    "\n",
    "imports = list(set(get_imports()))\n",
    "\n",
    "requirements = []\n",
    "for m in pkg_resources.working_set:\n",
    "    if m.project_name in imports and m.project_name!=\"pip\":\n",
    "        requirements.append((m.project_name, m.version))\n",
    "\n",
    "# Set data paths:\n",
    "IN=r'E:\\random_data\\in'\n",
    "OUT=r'E:\\random_data\\out'\n",
    "\n",
    "print(\"----------------------------------------------------\")\n",
    "print(\"###               VERSION TYPES                  ###\")\n",
    "print(\"----------------------------------------------------\")\n",
    "print(f\"Versions: \", requirements)\n",
    "print(f\"Device(s) to Utilize: \", processing_device)\n",
    "print(f\"Is Torch Availabke?: \", torch_aval)\n",
    "print(f\"# of Devices Found: \", torch.__version__)\n",
    "print(\"----------------------------------------------------\")\n",
    "print(f\"If NVIDIA-SMI is not found, then CUDA isn't available on this device:\")\n",
    "!nvidia-smi\n",
    "gc.collect()\n",
    "print(\"----------------------------------------------------\")\n",
    "print(f\"Clear Torch Cuda Memory: \", torch.cuda.empty_cache())\n",
    "print(\"-----ENVIRONMENT IS COMPLETE & STAGED CORRECTLY-----\")"
   ]
  },
  {
   "cell_type": "code",
   "execution_count": 3,
   "metadata": {},
   "outputs": [
    {
     "name": "stdout",
     "output_type": "stream",
     "text": [
      "<class 'pandas.core.frame.DataFrame'>\n",
      "RangeIndex: 220025 entries, 0 to 220024\n",
      "Data columns (total 2 columns):\n",
      " #   Column  Non-Null Count   Dtype \n",
      "---  ------  --------------   ----- \n",
      " 0   id      220025 non-null  object\n",
      " 1   label   220025 non-null  int64 \n",
      "dtypes: int64(1), object(1)\n",
      "memory usage: 3.4+ MB\n"
     ]
    }
   ],
   "source": [
    "cancer_labels = pd.read_csv(IN + r'\\histopathologic-cancer-detection\\histopathologic-cancer-detection\\train_labels.csv')\n",
    "cancer_labels.info()"
   ]
  },
  {
   "cell_type": "code",
   "execution_count": 4,
   "metadata": {},
   "outputs": [
    {
     "data": {
      "image/png": "[encoded data removed]",
      "text/plain": [
       "<Figure size 640x480 with 1 Axes>"
      ]
     },
     "metadata": {},
     "output_type": "display_data"
    }
   ],
   "source": [
    "cancer_labels.label.value_counts().plot(kind=\"bar\")\n",
    "plt.title(\"Independat Target Distribution\")\n",
    "plt.xticks(rotation=45)\n",
    "plt.show()"
   ]
  },
  {
   "cell_type": "code",
   "execution_count": 6,
   "metadata": {},
   "outputs": [
    {
     "name": "stdout",
     "output_type": "stream",
     "text": [
      "Searching in :  E:\\random_data\\in\\histopathologic-cancer-detection\\histopathologic-cancer-detection\n",
      "Searching in :  E:\\random_data\\in\\histopathologic-cancer-detection\\histopathologic-cancer-detection\\test\n",
      "Searching in :  E:\\random_data\\in\\histopathologic-cancer-detection\\histopathologic-cancer-detection\\train\n",
      "Total number of files 277485\n",
      "Total Number of directories 2\n",
      "Total: 277487\n"
     ]
    }
   ],
   "source": [
    "APP_FOLDER = IN + r'\\histopathologic-cancer-detection\\histopathologic-cancer-detection'\n",
    "totalFiles = 0\n",
    "totalDir = 0\n",
    "\n",
    "for base, dirs, files in os.walk(APP_FOLDER):\n",
    "    print('Searching in : ',base)\n",
    "    for directories in dirs:\n",
    "        totalDir += 1\n",
    "    for Files in files:\n",
    "        totalFiles += 1\n",
    "\n",
    "print('Total number of files',totalFiles)\n",
    "print('Total Number of directories',totalDir)\n",
    "print('Total:',(totalDir + totalFiles))"
   ]
  },
  {
   "cell_type": "code",
   "execution_count": 8,
   "metadata": {},
   "outputs": [
    {
     "data": {
      "text/plain": [
       "10000"
      ]
     },
     "execution_count": 8,
     "metadata": {},
     "output_type": "execute_result"
    }
   ],
   "source": [
    "np.random.seed(0)\n",
    "\n",
    "train_imgs_orig = os.listdir(IN + r'\\histopathologic-cancer-detection\\histopathologic-cancer-detection\\train')\n",
    "\n",
    "selected_image_list = []\n",
    "\n",
    "for img in np.random.choice(train_imgs_orig, 10000):\n",
    " selected_image_list.append(img)\n",
    "len(selected_image_list)"
   ]
  },
  {
   "cell_type": "code",
   "execution_count": 18,
   "metadata": {},
   "outputs": [
    {
     "ename": "FileNotFoundError",
     "evalue": "[Errno 2] No such file or directory: 'E:\\\\random_data\\\\in\\\\histopathologic-cancer-detection\\\\histopathologic-cancer-detection\\\\train64e491dfdca34733d41623b15157398ee4cf3a12.tif'",
     "output_type": "error",
     "traceback": [
      "\u001b[1;31m---------------------------------------------------------------------------\u001b[0m",
      "\u001b[1;31mFileNotFoundError\u001b[0m                         Traceback (most recent call last)",
      "Cell \u001b[1;32mIn[18], line 4\u001b[0m\n\u001b[0;32m      2\u001b[0m \u001b[39mfor\u001b[39;00m idx, img \u001b[39min\u001b[39;00m \u001b[39menumerate\u001b[39m(np\u001b[39m.\u001b[39mrandom\u001b[39m.\u001b[39mchoice(selected_image_list, \u001b[39m20\u001b[39m)):\n\u001b[0;32m      3\u001b[0m     ax \u001b[39m=\u001b[39m fig\u001b[39m.\u001b[39madd_subplot(\u001b[39m2\u001b[39m, \u001b[39m20\u001b[39m\u001b[39m/\u001b[39m\u001b[39m/\u001b[39m\u001b[39m2\u001b[39m, idx\u001b[39m+\u001b[39m\u001b[39m1\u001b[39m, xticks\u001b[39m=\u001b[39m[], yticks\u001b[39m=\u001b[39m[])\n\u001b[1;32m----> 4\u001b[0m     im \u001b[39m=\u001b[39m Image\u001b[39m.\u001b[39;49mopen(\u001b[39mr\u001b[39;49m\u001b[39m'\u001b[39;49m\u001b[39mE:\u001b[39;49m\u001b[39m\\\u001b[39;49m\u001b[39mrandom_data\u001b[39;49m\u001b[39m\\\u001b[39;49m\u001b[39min\u001b[39;49m\u001b[39m\\\u001b[39;49m\u001b[39mhistopathologic-cancer-detection\u001b[39;49m\u001b[39m\\\u001b[39;49m\u001b[39mhistopathologic-cancer-detection\u001b[39;49m\u001b[39m\\\u001b[39;49m\u001b[39mtrain\u001b[39;49m\u001b[39m'\u001b[39;49m \u001b[39m+\u001b[39;49m img)\n\u001b[0;32m      5\u001b[0m     plt\u001b[39m.\u001b[39mimshow(im)\n\u001b[0;32m      6\u001b[0m     lab \u001b[39m=\u001b[39m cancer_labels\u001b[39m.\u001b[39mloc[cancer_labels[\u001b[39m'\u001b[39m\u001b[39mid\u001b[39m\u001b[39m'\u001b[39m] \u001b[39m==\u001b[39m img\u001b[39m.\u001b[39msplit(\u001b[39m'\u001b[39m\u001b[39m.\u001b[39m\u001b[39m'\u001b[39m)[\u001b[39m0\u001b[39m], \u001b[39m'\u001b[39m\u001b[39mlabel\u001b[39m\u001b[39m'\u001b[39m]\u001b[39m.\u001b[39mvalues[\u001b[39m0\u001b[39m]\n",
      "File \u001b[1;32mc:\\DatSci\\Code\\Python\\3.10.9\\lib\\site-packages\\PIL\\Image.py:3131\u001b[0m, in \u001b[0;36mopen\u001b[1;34m(fp, mode, formats)\u001b[0m\n\u001b[0;32m   3128\u001b[0m     filename \u001b[39m=\u001b[39m fp\n\u001b[0;32m   3130\u001b[0m \u001b[39mif\u001b[39;00m filename:\n\u001b[1;32m-> 3131\u001b[0m     fp \u001b[39m=\u001b[39m builtins\u001b[39m.\u001b[39;49mopen(filename, \u001b[39m\"\u001b[39;49m\u001b[39mrb\u001b[39;49m\u001b[39m\"\u001b[39;49m)\n\u001b[0;32m   3132\u001b[0m     exclusive_fp \u001b[39m=\u001b[39m \u001b[39mTrue\u001b[39;00m\n\u001b[0;32m   3134\u001b[0m \u001b[39mtry\u001b[39;00m:\n",
      "\u001b[1;31mFileNotFoundError\u001b[0m: [Errno 2] No such file or directory: 'E:\\\\random_data\\\\in\\\\histopathologic-cancer-detection\\\\histopathologic-cancer-detection\\\\train64e491dfdca34733d41623b15157398ee4cf3a12.tif'"
     ]
    },
    {
     "data": {
      "image/png": "[encoded data removed]",
      "text/plain": [
       "<Figure size 2500x600 with 1 Axes>"
      ]
     },
     "metadata": {},
     "output_type": "display_data"
    }
   ],
   "source": [
    "fig = plt.figure(figsize=(25, 6))\n",
    "for idx, img in enumerate(np.random.choice(selected_image_list, 20)):\n",
    "    ax = fig.add_subplot(2, 20//2, idx+1, xticks=[], yticks=[])\n",
    "    im = Image.open(IN + r'\\histopathologic-cancer-detection\\histopathologic-cancer-detection\\train' + img)\n",
    "    plt.imshow(im)\n",
    "    lab = cancer_labels.loc[cancer_labels['id'] == img.split('.')[0], 'label'].values[0]\n",
    "    ax.set_title(f'Label: {lab}')"
   ]
  },
  {
   "cell_type": "code",
   "execution_count": 15,
   "metadata": {},
   "outputs": [
    {
     "name": "stdout",
     "output_type": "stream",
     "text": [
      "Number of images in the downsampled training dataset:  8000\n",
      "Number of images in the downsampled testing dataset:  2000\n"
     ]
    }
   ],
   "source": [
    "np.random.seed(0)\n",
    "np.random.shuffle(selected_image_list)\n",
    "\n",
    "cancer_train_idx = selected_image_list[:8000]\n",
    "cancer_test_idx = selected_image_list[8000:]\n",
    "\n",
    "print(\"Number of images in the downsampled training dataset: \", len(cancer_train_idx))\n",
    "print(\"Number of images in the downsampled testing dataset: \", len(cancer_test_idx))"
   ]
  },
  {
   "cell_type": "code",
   "execution_count": null,
   "metadata": {},
   "outputs": [],
   "source": []
  }
 ],
 "metadata": {
  "kernelspec": {
   "display_name": "Python 3",
   "language": "python",
   "name": "python3"
  },
  "language_info": {
   "codemirror_mode": {
    "name": "ipython",
    "version": 3
   },
   "file_extension": ".py",
   "mimetype": "text/x-python",
   "name": "python",
   "nbconvert_exporter": "python",
   "pygments_lexer": "ipython3",
   "version": "3.10.9"
  },
  "orig_nbformat": 4,
  "vscode": {
   "interpreter": {
    "hash": "0e940d8f202f43903b60fbe1bc81a90ad0f1fd887d2741c5640d8a1ebfb812f8"
   }
  }
 },
 "nbformat": 4,
 "nbformat_minor": 2
}
