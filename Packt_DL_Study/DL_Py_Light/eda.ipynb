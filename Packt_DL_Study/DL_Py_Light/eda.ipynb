{
 "cells": [
  {
   "cell_type": "code",
   "execution_count": null,
   "metadata": {},
   "outputs": [],
   "source": [
    "#import correct version\n",
    "import torch\n",
    "from torch import nn, optim\n",
    "from torch.utils.data import DataLoader\n",
    "from torch.utils.data import TensorDataset, DataLoader, RandomSampler, SequentialSampler\n",
    "import matplotlib.pyplot as plt\n",
    "%matplotlib inline\n",
    "import pytorch_lightning as pl\n",
    "from torchmetrics.functional import accuracy\n",
    "import transformers\n",
    "from transformers import BertModel, BertConfig\n",
    "from transformers import AutoModel, BertTokenizerFast\n",
    "import pandas as pd"
   ]
  },
  {
   "cell_type": "code",
   "execution_count": null,
   "metadata": {},
   "outputs": [],
   "source": [
    "IN_DATA_PATH = r'C:\\Data Sciences\\Data\\inputs'\n",
    "OUT_DATA_PATH = r'C:\\Data Sciences\\Data\\outputs'"
   ]
  },
  {
   "cell_type": "code",
   "execution_count": null,
   "metadata": {},
   "outputs": [],
   "source": [
    "pub_health_train = pd.read_csv(IN_DATA_PATH + r\"\\train.tsv\", sep='\\t')\n",
    "pub_health_test = pd.read_csv(IN_DATA_PATH + r\"\\test.tsv\", sep='\\t')"
   ]
  },
  {
   "cell_type": "code",
   "execution_count": null,
   "metadata": {},
   "outputs": [],
   "source": [
    "pub_health_train = pub_health_train[pub_health_train['label'] != 'snopes']\n",
    "pub_health_train = pub_health_train[['main_text','label']]\n",
    "pub_health_train = pub_health_train.dropna(subset=['main_text', 'label'])\n",
    "\n",
    "pub_health_train.head()"
   ]
  },
  {
   "cell_type": "code",
   "execution_count": null,
   "metadata": {},
   "outputs": [],
   "source": [
    "pub_health_test = pub_health_test[['main_text','label']]\n",
    "pub_health_test = pub_health_test.dropna(subset=['main_text', 'label'])"
   ]
  },
  {
   "cell_type": "code",
   "execution_count": null,
   "metadata": {},
   "outputs": [],
   "source": [
    "pub_health_train['label'] = pub_health_train['label'].map({\"true\":0, \"false\":1, \"unproven\":2, \"mixture\":3})\n",
    "pub_health_test['label'] = pub_health_test['label'].map({\"true\":0, \"false\":1, \"unproven\":2, \"mixture\":3})"
   ]
  },
  {
   "cell_type": "code",
   "execution_count": null,
   "metadata": {},
   "outputs": [],
   "source": [
    "class HealthClaimClassifier(pl.LightningModule):\n",
    "\n",
    "    def __init__(self, max_seq_len=512, batch_size=128, learning_rate = 0.001):\n",
    "        super().__init__()\n",
    "        self.learning_rate = learning_rate\n",
    "        self.max_seq_len = max_seq_len\n",
    "        self.batch_size = batch_size\n",
    "        self.loss = nn.CrossEntropyLoss()\n",
    "\n",
    "        self.pretrain_model  = AutoModel.from_pretrained('bert-base-uncased')\n",
    "        self.pretrain_model.eval()\n",
    "        for param in self.pretrain_model.parameters():\n",
    "            param.requires_grad = False\n",
    "\n",
    "\n",
    "        self.new_layers = nn.Sequential(\n",
    "            nn.Linear(768, 512),\n",
    "            nn.ReLU(),\n",
    "            nn.Dropout(0.2),\n",
    "            nn.Linear(512,4),\n",
    "            nn.LogSoftmax(dim=1)\n",
    "        )\n",
    "\n",
    "    def prepare_data(self):\n",
    "      tokenizer = BertTokenizerFast.from_pretrained('bert-base-uncased')\n",
    "\n",
    "      tokens_train = tokenizer.batch_encode_plus(\n",
    "          pub_health_train[\"main_text\"].tolist(),\n",
    "          max_length = self.max_seq_len,\n",
    "          pad_to_max_length=True,\n",
    "          truncation=True,\n",
    "          return_token_type_ids=False\n",
    "      )\n",
    "\n",
    "      tokens_test = tokenizer.batch_encode_plus(\n",
    "          pub_health_test[\"main_text\"].tolist(),\n",
    "          max_length = self.max_seq_len,\n",
    "          pad_to_max_length=True,\n",
    "          truncation=True,\n",
    "          return_token_type_ids=False\n",
    "      )\n",
    "\n",
    "      self.train_seq = torch.tensor(tokens_train['input_ids'])\n",
    "      self.train_mask = torch.tensor(tokens_train['attention_mask'])\n",
    "      self.train_y = torch.tensor(pub_health_train[\"label\"].tolist())\n",
    "\n",
    "      self.test_seq = torch.tensor(tokens_test['input_ids'])\n",
    "      self.test_mask = torch.tensor(tokens_test['attention_mask'])\n",
    "      self.test_y = torch.tensor(pub_health_test[\"label\"].tolist())\n",
    "\n",
    "    def forward(self, encode_id, mask):\n",
    "        _, output= self.pretrain_model(encode_id, attention_mask=mask)\n",
    "        output = self.new_layers(output)\n",
    "        return output\n",
    "\n",
    "    def train_dataloader(self):\n",
    "      train_dataset = TensorDataset(self.train_seq, self.train_mask, self.train_y)\n",
    "      self.train_dataloader_obj = DataLoader(train_dataset, batch_size=self.batch_size)\n",
    "      return self.train_dataloader_obj\n",
    "\n",
    "\n",
    "    def test_dataloader(self):\n",
    "      test_dataset = TensorDataset(self.test_seq, self.test_mask, self.test_y)\n",
    "      self.test_dataloader_obj = DataLoader(test_dataset, batch_size=self.batch_size)\n",
    "      return self.test_dataloader_obj\n",
    "\n",
    "    def training_step(self, batch, batch_idx):\n",
    "      encode_id, mask, targets = batch\n",
    "      outputs = self(encode_id, mask) \n",
    "      preds = torch.argmax(outputs, dim=1)\n",
    "      train_accuracy = accuracy(preds, targets)\n",
    "      loss = self.loss(outputs, targets)\n",
    "      self.log('train_accuracy', train_accuracy, prog_bar=True, on_step=False, on_epoch=True)\n",
    "      self.log('train_loss', loss, on_step=False, on_epoch=True)\n",
    "      return {\"loss\":loss, 'train_accuracy': train_accuracy}\n",
    "\n",
    "    def test_step(self, batch, batch_idx):\n",
    "      encode_id, mask, targets = batch\n",
    "      outputs = self.forward(encode_id, mask)\n",
    "      preds = torch.argmax(outputs, dim=1)\n",
    "      test_accuracy = accuracy(preds, targets)\n",
    "      loss = self.loss(outputs, targets)\n",
    "      return {\"test_loss\":loss, \"test_accuracy\":test_accuracy}\n",
    "\n",
    "    def test_epoch_end(self, outputs):\n",
    "      test_outs = []\n",
    "      for test_out in outputs:\n",
    "          out = test_out['test_accuracy']\n",
    "          test_outs.append(out)\n",
    "      total_test_accuracy = torch.stack(test_outs).mean()\n",
    "      self.log('total_test_accuracy', total_test_accuracy, on_step=False, on_epoch=True)\n",
    "      return total_test_accuracy\n",
    "\n",
    "    def configure_optimizers(self):\n",
    "      params = self.parameters()\n",
    "      optimizer = optim.Adam(params=params, lr = self.learning_rate)\n",
    "      return optimizer"
   ]
  },
  {
   "cell_type": "code",
   "execution_count": 9,
   "metadata": {},
   "outputs": [],
   "source": [
    "model = HealthClaimClassifier()\n",
    "\n",
    "trainer = pl.Trainer(fast_dev_run=True)\n",
    "trainer.fit(model)"
   ]
  },
  {
   "cell_type": "code",
   "execution_count": null,
   "metadata": {},
   "outputs": [],
   "source": []
  }
 ],
 "metadata": {
  "kernelspec": {
   "display_name": "Python 3",
   "language": "python",
   "name": "python3"
  },
  "language_info": {
   "codemirror_mode": {
    "name": "ipython",
    "version": 3
   },
   "file_extension": ".py",
   "mimetype": "text/x-python",
   "name": "python",
   "nbconvert_exporter": "python",
   "pygments_lexer": "ipython3",
   "version": "3.10.8"
  },
  "orig_nbformat": 4,
  "vscode": {
   "interpreter": {
    "hash": "b5d5d8e9e6cc9fbb5bc1db1baab3718390515d4c2e09a684d5d28eb9fa9bc851"
   }
  }
 },
 "nbformat": 4,
 "nbformat_minor": 2
}
