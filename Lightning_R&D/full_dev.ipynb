{
 "cells": [
  {
   "cell_type": "code",
   "execution_count": 2,
   "metadata": {},
   "outputs": [
    {
     "name": "stderr",
     "output_type": "stream",
     "text": [
      "[nltk_data] Downloading package stopwords to\n",
      "[nltk_data]     C:\\Users\\proto\\AppData\\Roaming\\nltk_data...\n",
      "[nltk_data]   Unzipping corpora\\stopwords.zip.\n",
      "[nltk_data] Downloading package wordnet to\n",
      "[nltk_data]     C:\\Users\\proto\\AppData\\Roaming\\nltk_data...\n",
      "[nltk_data] Downloading package omw-1.4 to\n",
      "[nltk_data]     C:\\Users\\proto\\AppData\\Roaming\\nltk_data...\n",
      "c:\\DatSci\\Code\\Python\\3.10.9\\lib\\site-packages\\tqdm\\auto.py:22: TqdmWarning: IProgress not found. Please update jupyter and ipywidgets. See https://ipywidgets.readthedocs.io/en/stable/user_install.html\n",
      "  from .autonotebook import tqdm as notebook_tqdm\n",
      "c:\\DatSci\\Code\\Python\\3.10.9\\lib\\site-packages\\torchvision\\io\\image.py:13: UserWarning: Failed to load image Python extension: Could not find module 'C:\\DatSci\\Code\\Python\\3.10.9\\Lib\\site-packages\\torchvision\\image.pyd' (or one of its dependencies). Try using the full path with constructor syntax.\n",
      "  warn(f\"Failed to load image Python extension: {e}\")\n",
      "Global seed set to 42\n"
     ]
    },
    {
     "name": "stdout",
     "output_type": "stream",
     "text": [
      "----------------------------------------------------\n",
      "###               VERSION TYPES                  ###\n",
      "----------------------------------------------------\n",
      "Versions:  [('tqdm', '4.64.1'), ('transformers', '4.25.1'), ('nltk', '3.7'), ('matplotlib', '3.6.2'), ('numpy', '1.23.5'), ('torch', '1.13.0'), ('pandas', '1.5.2'), ('seaborn', '0.12.1')]\n",
      "Device(s) to Utilize:  cpu\n",
      "Is Torch Availabke?:  False\n",
      "# of Devices Found:  1.13.0+cpu\n",
      "----------------------------------------------------\n",
      "If NVIDIA-SMI is not found, then CUDA isn't available on this device:\n",
      "Thu Dec  8 17:57:12 2022       \n",
      "+-----------------------------------------------------------------------------+\n",
      "| NVIDIA-SMI 527.56       Driver Version: 527.56       CUDA Version: 12.0     |\n",
      "|-------------------------------+----------------------+----------------------+\n",
      "| GPU  Name            TCC/WDDM | Bus-Id        Disp.A | Volatile Uncorr. ECC |\n",
      "| Fan  Temp  Perf  Pwr:Usage/Cap|         Memory-Usage | GPU-Util  Compute M. |\n",
      "|                               |                      |               MIG M. |\n",
      "|===============================+======================+======================|\n",
      "|   0  NVIDIA GeForce ... WDDM  | 00000000:01:00.0  On |                  N/A |\n",
      "|  0%   47C    P5    86W / 320W |   1318MiB / 10240MiB |      7%      Default |\n",
      "|                               |                      |                  N/A |\n",
      "+-------------------------------+----------------------+----------------------+\n",
      "                                                                               \n",
      "+-----------------------------------------------------------------------------+\n",
      "| Processes:                                                                  |\n",
      "|  GPU   GI   CI        PID   Type   Process name                  GPU Memory |\n",
      "|        ID   ID                                                   Usage      |\n",
      "|=============================================================================|\n",
      "|    0   N/A  N/A      1612    C+G   ...8bbwe\\WindowsTerminal.exe    N/A      |\n",
      "|    0   N/A  N/A      3928    C+G   C:\\Windows\\explorer.exe         N/A      |\n",
      "|    0   N/A  N/A     11828    C+G   ...8bbwe\\Microsoft.Notes.exe    N/A      |\n",
      "|    0   N/A  N/A     13316    C+G   ...me\\Application\\chrome.exe    N/A      |\n",
      "|    0   N/A  N/A     15904    C+G   ...n1h2txyewy\\SearchHost.exe    N/A      |\n",
      "|    0   N/A  N/A     15924    C+G   ...root\\Office16\\ONENOTE.EXE    N/A      |\n",
      "|    0   N/A  N/A     18188    C+G   ...artMenuExperienceHost.exe    N/A      |\n",
      "|    0   N/A  N/A     19096    C+G   ...perience\\NVIDIA Share.exe    N/A      |\n",
      "|    0   N/A  N/A     19504    C+G   ...kyb3d8bbwe\\HxAccounts.exe    N/A      |\n",
      "|    0   N/A  N/A     19824    C+G   ...icrosoft VS Code\\Code.exe    N/A      |\n",
      "|    0   N/A  N/A     20740    C+G   ...418.62\\msedgewebview2.exe    N/A      |\n",
      "+-----------------------------------------------------------------------------+\n",
      "----------------------------------------------------\n",
      "Clear Torch Cuda Memory:  None\n",
      "-----ENVIRONMENT IS COMPLETE & STAGED CORRECTLY-----\n"
     ]
    }
   ],
   "source": [
    "# Code Library/Packages:\n",
    "from types import ModuleType\n",
    "import pandas as pd\n",
    "import numpy as np\n",
    "import random\n",
    "import types\n",
    "import pkg_resources\n",
    "import gc\n",
    "import tqdm as tqdm\n",
    "\n",
    "# Visual Library/Packages:\n",
    "import seaborn as sns\n",
    "import matplotlib.pyplot as plt\n",
    "from matplotlib import rc\n",
    "%matplotlib inline\n",
    "\n",
    "# Sklearn Library/Packages:\n",
    "from sklearn.model_selection import train_test_split\n",
    "\n",
    "# NLTK Library/Packages:\n",
    "from nltk.corpus import stopwords\n",
    "import nltk\n",
    "nltk.download('stopwords')\n",
    "nltk.download('wordnet')\n",
    "nltk.download('omw-1.4')\n",
    "\n",
    "# Transformers Library/Packages:\n",
    "import transformers\n",
    "\n",
    "# Torch Library/Packages:\n",
    "import torch\n",
    "\n",
    "# Lightning Library/Packages:\n",
    "import pytorch_lightning as pl\n",
    "\n",
    "# Setting of seeds for comparable results for learning models:\n",
    "SEED_VAL=42\n",
    "random.seed(SEED_VAL)\n",
    "np.random.seed(SEED_VAL)\n",
    "torch.manual_seed(SEED_VAL)\n",
    "torch.cuda.manual_seed(SEED_VAL)\n",
    "\n",
    "# Set random seed and random seed for all lightning models:\n",
    "RANDOM_SEED=42\n",
    "pl.seed_everything(RANDOM_SEED)\n",
    "\n",
    "# Processing Device(s):\n",
    "processing_device= \"cuda\" if torch.cuda.is_available() else \"cpu\"\n",
    "torch_aval = torch.cuda.is_available()\n",
    "\n",
    "def get_imports():\n",
    "\n",
    "    for name, val in globals().items():\n",
    "        if isinstance(val, types.ModuleType):\n",
    "            name = val.__name__.split(\".\")[0]\n",
    "\n",
    "        elif isinstance(val, type):            \n",
    "            name = val.__module__.split(\".\")[0]\n",
    "\n",
    "        poorly_named_packages = {\n",
    "            \"PIL\": \"Pillow\",\n",
    "            \"sklearn\": \"scikit-learn\"\n",
    "        }\n",
    "\n",
    "        if name in poorly_named_packages.keys():\n",
    "            name = poorly_named_packages[name]\n",
    "\n",
    "        yield name\n",
    "\n",
    "imports = list(set(get_imports()))\n",
    "\n",
    "requirements = []\n",
    "for m in pkg_resources.working_set:\n",
    "    if m.project_name in imports and m.project_name!=\"pip\":\n",
    "        requirements.append((m.project_name, m.version))\n",
    "\n",
    "# Set data paths:\n",
    "IN=r'E:\\random_data\\in'\n",
    "OUT=r'E:\\random_data\\out'\n",
    "\n",
    "print(\"----------------------------------------------------\")\n",
    "print(\"###               VERSION TYPES                  ###\")\n",
    "print(\"----------------------------------------------------\")\n",
    "print(f\"Versions: \", requirements)\n",
    "print(f\"Device(s) to Utilize: \", processing_device)\n",
    "print(f\"Is Torch Availabke?: \", torch_aval)\n",
    "print(f\"# of Devices Found: \", torch.__version__)\n",
    "print(\"----------------------------------------------------\")\n",
    "print(f\"If NVIDIA-SMI is not found, then CUDA isn't available on this device:\")\n",
    "!nvidia-smi\n",
    "gc.collect()\n",
    "print(\"----------------------------------------------------\")\n",
    "print(f\"Clear Torch Cuda Memory: \", torch.cuda.empty_cache())\n",
    "print(\"-----ENVIRONMENT IS COMPLETE & STAGED CORRECTLY-----\")"
   ]
  },
  {
   "cell_type": "code",
   "execution_count": 3,
   "metadata": {},
   "outputs": [
    {
     "name": "stdout",
     "output_type": "stream",
     "text": [
      "<class 'pandas.core.frame.DataFrame'>\n",
      "RangeIndex: 4999 entries, 0 to 4998\n",
      "Data columns (total 2 columns):\n",
      " #   Column  Non-Null Count  Dtype \n",
      "---  ------  --------------  ----- \n",
      " 0   review  4999 non-null   object\n",
      " 1   target  4999 non-null   int64 \n",
      "dtypes: int64(1), object(1)\n",
      "memory usage: 78.2+ KB\n"
     ]
    }
   ],
   "source": [
    "df = pd.read_csv(IN + r'\\coffee_maker_ratings.csv')\n",
    "df.info()"
   ]
  },
  {
   "cell_type": "code",
   "execution_count": 4,
   "metadata": {},
   "outputs": [
    {
     "data": {
      "text/plain": [
       "1    2935\n",
       "0    2064\n",
       "Name: target, dtype: int64"
      ]
     },
     "execution_count": 4,
     "metadata": {},
     "output_type": "execute_result"
    }
   ],
   "source": [
    "df['target'].value_counts()"
   ]
  },
  {
   "cell_type": "code",
   "execution_count": null,
   "metadata": {},
   "outputs": [],
   "source": []
  }
 ],
 "metadata": {
  "kernelspec": {
   "display_name": "Python 3.10.9 64-bit",
   "language": "python",
   "name": "python3"
  },
  "language_info": {
   "codemirror_mode": {
    "name": "ipython",
    "version": 3
   },
   "file_extension": ".py",
   "mimetype": "text/x-python",
   "name": "python",
   "nbconvert_exporter": "python",
   "pygments_lexer": "ipython3",
   "version": "3.10.9"
  },
  "orig_nbformat": 4,
  "vscode": {
   "interpreter": {
    "hash": "0e940d8f202f43903b60fbe1bc81a90ad0f1fd887d2741c5640d8a1ebfb812f8"
   }
  }
 },
 "nbformat": 4,
 "nbformat_minor": 2
}
